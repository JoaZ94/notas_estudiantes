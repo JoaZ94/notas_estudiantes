{
 "cells": [
  {
   "cell_type": "code",
   "execution_count": 1,
   "id": "3078d705",
   "metadata": {},
   "outputs": [],
   "source": [
    "# Instalación de la librería para realizar acciones en la base de datos MySQL\n",
    "#pip install mysql-connector-python"
   ]
  },
  {
   "cell_type": "code",
   "execution_count": 18,
   "id": "fd3f59f9",
   "metadata": {},
   "outputs": [],
   "source": [
    "# Se importa la librería para trabajar con MySQL\n",
    "import mysql.connector"
   ]
  },
  {
   "cell_type": "code",
   "execution_count": 3,
   "id": "89d6cbe3",
   "metadata": {},
   "outputs": [],
   "source": [
    "# Función para solcitar el número de estudiantes que tiene un curso\n",
    "def obtener_numero_estudiantes():\n",
    "    while True:\n",
    "        try:\n",
    "            numero_estudiantes = int(input(\"Ingrese el número de estudiantes: \"))\n",
    "            if numero_estudiantes <= 0:\n",
    "                print(\"Ingrese un número válido (mayor que 0).\")\n",
    "            else:\n",
    "                return numero_estudiantes\n",
    "        except ValueError:\n",
    "            print(\"Ingrese un número válido.\")"
   ]
  },
  {
   "cell_type": "code",
   "execution_count": 19,
   "id": "7f93aa63",
   "metadata": {},
   "outputs": [],
   "source": [
    "# Función para solicitar el id_estudiante (identificador del estudiante)\n",
    "def obtener_id_estudiante():\n",
    "    while True:\n",
    "        try:\n",
    "            id_estudiante = int(input(\"Ingrese el ID numérico del estudiante: \"))\n",
    "            if id_estudiante <= 0:\n",
    "                print(\"Ingrese un ID válido (mayor que 0).\")\n",
    "            else:\n",
    "                return id_estudiante\n",
    "        except ValueError:\n",
    "            print(\"Ingrese un ID válido.\")"
   ]
  },
  {
   "cell_type": "code",
   "execution_count": 5,
   "id": "a5660429",
   "metadata": {},
   "outputs": [],
   "source": [
    "# Función para solicitar el id_materia (identificador de la materia)\n",
    "def obtener_id_materia():\n",
    "    while True:\n",
    "        try:\n",
    "            id_materia = int(input(\"Ingrese el ID de la materia: \"))\n",
    "            if id_materia <= 0:\n",
    "                print(\"Ingrese un ID válido (mayor que 0).\")\n",
    "            else:\n",
    "                return id_materia\n",
    "        except ValueError:\n",
    "            print(\"Ingrese un ID válido.\")"
   ]
  },
  {
   "cell_type": "code",
   "execution_count": 6,
   "id": "8b6c8ee6",
   "metadata": {},
   "outputs": [],
   "source": [
    "# Función para almacenar las calificaciones de los estudiantes\n",
    "def ingresar_calificaciones(numero_calificaciones):\n",
    "    # Se obtiene el ID de la materia mediante la función obtener_id_materia()\n",
    "    id_materia = obtener_id_materia()\n",
    "    \n",
    "    # Se obtiene el número de estudiantes mediante la función obtener_numero_estudiantes()\n",
    "    numero_estudiantes = obtener_numero_estudiantes()\n",
    "    \n",
    "    # Se crea un diccionario vacío para almacenar las calificaciones de cada estudiante\n",
    "    calificaciones_por_estudiante = {}\n",
    "    \n",
    "    # Se inicia un bucle que iterará por cada estudiante\n",
    "    for i in range(1, numero_estudiantes + 1):\n",
    "        \n",
    "        # Se obtiene el ID del estudiante mediante la función obtener_id_estudiante()\n",
    "        id_estudiante = obtener_id_estudiante()\n",
    "        \n",
    "        # Se crea una lista vacía para almacenar las calificaciones del estudiante actual\n",
    "        calificaciones = []\n",
    "        \n",
    "         # Se inicia un bucle que iterará por cada calificación que se debe ingresar para el estudiante actual\n",
    "        for j in range(1, numero_calificaciones + 1):\n",
    "            while True:\n",
    "                try:\n",
    "                    # Se solicita al usuario ingresar la calificación para el estudiante y la materia actual\n",
    "                    calificacion = float(input(f\"Ingrese la calificación {j} del estudiante {i}: \"))\n",
    "                    if calificacion < 0 or calificacion > 100:\n",
    "                        print(\"Ingrese una calificación válida (entre 0 y 5).\")\n",
    "                    else:\n",
    "                        # Si la calificación es válida, se agrega a la lista de calificaciones del estudiante\n",
    "                        calificaciones.append(calificacion)\n",
    "                        break\n",
    "                except ValueError:\n",
    "                    print(\"Ingrese una calificación válida.\")\n",
    "        # Se agrega al diccionario calificaciones_por_estudiante el par (clave-valor) \n",
    "        # que representa al estudiante y sus calificaciones\n",
    "        calificaciones_por_estudiante[(id_estudiante, id_materia)] = calificaciones\n",
    "    return calificaciones_por_estudiante"
   ]
  },
  {
   "cell_type": "code",
   "execution_count": 7,
   "id": "e8ddd7c2",
   "metadata": {},
   "outputs": [],
   "source": [
    "def guardar_en_mysql(calificaciones_por_estudiante):\n",
    "    # Establecer la conexión con la base de datos MySQL\n",
    "    conexion = mysql.connector.connect(\n",
    "        host=\"192.168.0.101\",\n",
    "        user=\"docente1\",\n",
    "        password=\"pwdocente1\",\n",
    "        database=\"notas\"\n",
    "    )\n",
    "\n",
    "    # Crear una tabla llamada 'calificaciones' si no existe\n",
    "    cursor = conexion.cursor()\n",
    "    cursor.execute(\"CREATE TABLE IF NOT EXISTS calificaciones (id_registro INT AUTO_INCREMENT PRIMARY KEY, id_estudiante INT, id_materia INT, calificacion FLOAT)\")\n",
    "\n",
    "    # Insertar las calificaciones en la tabla 'calificaciones'\n",
    "    for (id_estudiante, id_materia), calificaciones in calificaciones_por_estudiante.items():\n",
    "        for calificacion in calificaciones:\n",
    "            cursor.execute(\"INSERT INTO calificaciones (id_estudiante, id_materia, calificacion) VALUES (%s, %s, %s)\", (id_estudiante, id_materia, calificacion))\n",
    "\n",
    "    # Guardar los cambios y cerrar la conexión\n",
    "    conexion.commit()\n",
    "    cursor.close()\n",
    "    conexion.close()\n",
    "    print(\"Datos guardados en la base de datos\")"
   ]
  },
  {
   "cell_type": "code",
   "execution_count": 8,
   "id": "0e808908",
   "metadata": {},
   "outputs": [],
   "source": [
    "# Fución para calcular el promedio de notas de cada estudiante\n",
    "def calcular_promedio_por_estudiante(calificaciones_por_estudiante):\n",
    "    # Se crea un diccionario vacío para almacenar los promedios de calificaciones por estudiante\n",
    "    promedios = {}\n",
    "    # Se inicia un bucle que iterará por cada estudiante y sus calificaciones en el diccionario calificaciones_por_estudiante\n",
    "    for estudiante, calificaciones in calificaciones_por_estudiante.items():\n",
    "        # Se calcula el promedio de las calificaciones para el estudiante actual\n",
    "        promedio = sum(calificaciones) / len(calificaciones)\n",
    "        # Se agrega al diccionario promedios el par (clave-valor) que representa al estudiante y su promedio de calificaciones\n",
    "        promedios[estudiante] = promedio\n",
    "    return promedios"
   ]
  },
  {
   "cell_type": "code",
   "execution_count": 9,
   "id": "dd2780f5",
   "metadata": {},
   "outputs": [],
   "source": [
    "# Función que calcula la media de las notas de todo el curso\n",
    "def calcular_promedio(calificaciones_por_estudiante):\n",
    "    total_calificaciones = 0\n",
    "    sumatoria = 0\n",
    "    \n",
    "    # Iteramos por cada estudiante y sus calificaciones en el diccionario 'calificaciones_por_estudiante'\n",
    "    for calificaciones in calificaciones_por_estudiante.values():\n",
    "        # Incrementamos 'total_calificaciones' con la cantidad de calificaciones del estudiante actual\n",
    "        total_calificaciones += len(calificaciones)\n",
    "        \n",
    "        # Sumamos todas las calificaciones del estudiante actual y lo agregamos a 'sumatoria'\n",
    "        sumatoria += sum(calificaciones)\n",
    "    \n",
    "    # Calculamos el promedio dividiendo la 'sumatoria' entre el 'total_calificaciones'\n",
    "    promedio = sumatoria / total_calificaciones\n",
    "    return promedio"
   ]
  },
  {
   "cell_type": "code",
   "execution_count": 16,
   "id": "b25a1939",
   "metadata": {},
   "outputs": [],
   "source": [
    "def main():\n",
    "    # Se solicita al usuario que ingrese el número de calificaciones por estudiante\n",
    "    numero_calificaciones = int(input(\"Ingrese el número de calificaciones por estudiante: \"))\n",
    "    \n",
    "    # Se llama a la función 'ingresar_calificaciones(numero_calificaciones)' \n",
    "    # para obtener las calificaciones ingresadas por el usuario\n",
    "    calificaciones_por_estudiante = ingresar_calificaciones(numero_calificaciones)\n",
    "    \n",
    "    # Se llama a la función 'guardar_en_mysql(calificaciones_por_estudiante)' \n",
    "    # para almacenar las calificaciones en la base de datos MySQL\n",
    "    guardar_en_mysql(calificaciones_por_estudiante)\n",
    "    \n",
    "    # Se llama a la función 'calcular_promedio_por_estudiante(calificaciones_por_estudiante)' \n",
    "    # para obtener los promedios de calificaciones por estudiante\n",
    "    promedios_por_estudiante = calcular_promedio_por_estudiante(calificaciones_por_estudiante)\n",
    "    \n",
    "    # Se imprime el id del estudiante, con el id de la materia y el respectivo promedio final de notas\n",
    "    print(\"\\nPromedio de calificaciones por estudiante:\\n\")\n",
    "    for estudiante, promedio in promedios_por_estudiante.items():\n",
    "        print(f\"Estudiante id: {estudiante[0]}, en la Materia id: {estudiante[1]} obtuvo una nota final de: {promedio:.2f}\")\n",
    "    \n",
    "    # Muestra el promedio de todo el curso\n",
    "    promedio_curso = calcular_promedio(calificaciones_por_estudiante)\n",
    "    print(f\"\\nEl promedio de calificaciones del curso es de: {promedio_curso:.2f}\")"
   ]
  },
  {
   "cell_type": "code",
   "execution_count": 17,
   "id": "349ac52e",
   "metadata": {},
   "outputs": [
    {
     "name": "stdout",
     "output_type": "stream",
     "text": [
      "Ingrese el número de calificaciones por estudiante: 4\n",
      "Ingrese el ID de la materia: 10001\n",
      "Ingrese el número de estudiantes: 3\n",
      "Ingrese el ID numérico del estudiante: 101010\n",
      "Ingrese la calificación 1 del estudiante 1: 4\n",
      "Ingrese la calificación 2 del estudiante 1: 4.5\n",
      "Ingrese la calificación 3 del estudiante 1: 5\n",
      "Ingrese la calificación 4 del estudiante 1: 4.5\n",
      "Ingrese el ID numérico del estudiante: 202020\n",
      "Ingrese la calificación 1 del estudiante 2: 2\n",
      "Ingrese la calificación 2 del estudiante 2: 3\n",
      "Ingrese la calificación 3 del estudiante 2: 4\n",
      "Ingrese la calificación 4 del estudiante 2: 3\n",
      "Ingrese el ID numérico del estudiante: 303030\n",
      "Ingrese la calificación 1 del estudiante 3: 3\n",
      "Ingrese la calificación 2 del estudiante 3: 3.5\n",
      "Ingrese la calificación 3 del estudiante 3: 4\n",
      "Ingrese la calificación 4 del estudiante 3: 3.5\n",
      "Datos guardados en la base de datos\n",
      "\n",
      "Promedio de calificaciones por estudiante:\n",
      "\n",
      "Estudiante id: 101010, en la Materia id: 10001 obtuvo una nota final de: 4.50\n",
      "Estudiante id: 202020, en la Materia id: 10001 obtuvo una nota final de: 3.00\n",
      "Estudiante id: 303030, en la Materia id: 10001 obtuvo una nota final de: 3.50\n",
      "\n",
      "El promedio de calificaciones del curso es de: 3.67\n"
     ]
    }
   ],
   "source": [
    "# Ejecuta la función main\n",
    "main()"
   ]
  },
  {
   "cell_type": "code",
   "execution_count": null,
   "id": "6c8a8489",
   "metadata": {},
   "outputs": [],
   "source": []
  }
 ],
 "metadata": {
  "kernelspec": {
   "display_name": "Python 3 (ipykernel)",
   "language": "python",
   "name": "python3"
  },
  "language_info": {
   "codemirror_mode": {
    "name": "ipython",
    "version": 3
   },
   "file_extension": ".py",
   "mimetype": "text/x-python",
   "name": "python",
   "nbconvert_exporter": "python",
   "pygments_lexer": "ipython3",
   "version": "3.11.4"
  }
 },
 "nbformat": 4,
 "nbformat_minor": 5
}
